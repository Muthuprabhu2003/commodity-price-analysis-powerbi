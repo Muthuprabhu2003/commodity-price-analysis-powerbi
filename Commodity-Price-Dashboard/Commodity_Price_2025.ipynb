{
 "cells": [
  {
   "cell_type": "markdown",
   "id": "8539b113",
   "metadata": {},
   "source": [
    "# 📊 Enhanced Commodity Price Analysis (Jan - Jun 2025)\n",
    "\n",
    "This notebook explores trends in **commodity prices in Tamil Nadu** using `pandas`, `matplotlib`, and `seaborn`.\n",
    "\n",
    "It complements the Power BI dashboard by offering a code-level analysis."
   ]
  },
  {
   "cell_type": "code",
   "execution_count": null,
   "id": "432038ea",
   "metadata": {},
   "outputs": [],
   "source": [
    "import pandas as pd\n",
    "import matplotlib.pyplot as plt\n",
    "import seaborn as sns\n",
    "\n",
    "sns.set(style='whitegrid')\n",
    "%matplotlib inline"
   ]
  },
  {
   "cell_type": "code",
   "execution_count": null,
   "id": "fab0f2ac",
   "metadata": {},
   "outputs": [],
   "source": [
    "# Load CSV (adjust path as needed)\n",
    "df = pd.read_csv('Data/commodity_prices.csv')\n",
    "\n",
    "# Parse date and extract month/year\n",
    "df['Arrival_Date'] = pd.to_datetime(df['Arrival_Date'])\n",
    "df['Month'] = df['Arrival_Date'].dt.strftime('%B')\n",
    "df['Year'] = df['Arrival_Date'].dt.year\n",
    "\n",
    "df.head()"
   ]
  },
  {
   "cell_type": "code",
   "execution_count": null,
   "id": "25e03fcf",
   "metadata": {},
   "outputs": [],
   "source": [
    "df.info()\n",
    "df.describe()"
   ]
  },
  {
   "cell_type": "code",
   "execution_count": null,
   "id": "a4b86098",
   "metadata": {},
   "outputs": [],
   "source": [
    "df.isnull().sum()"
   ]
  },
  {
   "cell_type": "code",
   "execution_count": null,
   "id": "25b2c310",
   "metadata": {},
   "outputs": [],
   "source": [
    "monthly_avg = df.groupby('Month')['Modal_Price'].mean().reindex(\n",
    "    ['January', 'February', 'March', 'April', 'May', 'June', 'July']\n",
    ").reset_index()\n",
    "\n",
    "plt.figure(figsize=(10,6))\n",
    "sns.barplot(x='Month', y='Modal_Price', data=monthly_avg, palette='viridis')\n",
    "plt.title('Average Modal Price by Month')\n",
    "plt.ylabel('Avg Modal Price')\n",
    "plt.xticks(rotation=45)\n",
    "plt.tight_layout()\n",
    "plt.show()"
   ]
  },
  {
   "cell_type": "code",
   "execution_count": null,
   "id": "f0676654",
   "metadata": {},
   "outputs": [],
   "source": [
    "commodity_avg = df.groupby('Commodity')['Modal_Price'].mean().sort_values(ascending=False).head(10)\n",
    "\n",
    "plt.figure(figsize=(10,6))\n",
    "commodity_avg.plot(kind='bar', color='coral')\n",
    "plt.title('Top 10 Commodities by Avg Modal Price')\n",
    "plt.ylabel('Modal Price')\n",
    "plt.tight_layout()\n",
    "plt.show()"
   ]
  },
  {
   "cell_type": "code",
   "execution_count": null,
   "id": "efd71e7c",
   "metadata": {},
   "outputs": [],
   "source": [
    "market_sum = df.groupby('Market')['Modal_Price'].sum().sort_values(ascending=False).head(10)\n",
    "\n",
    "plt.figure(figsize=(10,6))\n",
    "market_sum.plot(kind='barh', color='skyblue')\n",
    "plt.title('Top Markets by Total Modal Price')\n",
    "plt.xlabel('Total Modal Price')\n",
    "plt.tight_layout()\n",
    "plt.show()"
   ]
  },
  {
   "cell_type": "code",
   "execution_count": null,
   "id": "6d832a68",
   "metadata": {},
   "outputs": [],
   "source": [
    "plt.figure(figsize=(12,6))\n",
    "sns.lineplot(data=df.sort_values('Arrival_Date'), x='Arrival_Date', y='Modal_Price', hue='Commodity')\n",
    "plt.title('Modal Price Over Time by Commodity')\n",
    "plt.ylabel('Modal Price')\n",
    "plt.xlabel('Date')\n",
    "plt.legend(bbox_to_anchor=(1.05, 1), loc='upper left')\n",
    "plt.tight_layout()\n",
    "plt.show()"
   ]
  }
 ],
 "metadata": {},
 "nbformat": 4,
 "nbformat_minor": 5
}